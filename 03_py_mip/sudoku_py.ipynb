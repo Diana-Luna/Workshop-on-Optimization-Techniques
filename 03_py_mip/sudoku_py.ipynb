{
 "cells": [
  {
   "cell_type": "code",
   "execution_count": 1,
   "metadata": {},
   "outputs": [],
   "source": [
    "from pyomo.environ import *\n",
    "from pyomo.opt import TerminationCondition"
   ]
  },
  {
   "cell_type": "code",
   "execution_count": 2,
   "metadata": {},
   "outputs": [],
   "source": [
    "subsq_to_row_col = dict()\n",
    "\n",
    "subsq_to_row_col[1] = [(i,j) for i in range(1,4) for j in range(1,4)]\n",
    "subsq_to_row_col[2] = [(i,j) for i in range(1,4) for j in range(4,7)]\n",
    "subsq_to_row_col[3] = [(i,j) for i in range(1,4) for j in range(7,10)]\n",
    "\n",
    "subsq_to_row_col[4] = [(i,j) for i in range(4,7) for j in range(1,4)]\n",
    "subsq_to_row_col[5] = [(i,j) for i in range(4,7) for j in range(4,7)]\n",
    "subsq_to_row_col[6] = [(i,j) for i in range(4,7) for j in range(7,10)]\n",
    "\n",
    "subsq_to_row_col[7] = [(i,j) for i in range(7,10) for j in range(1,4)]\n",
    "subsq_to_row_col[8] = [(i,j) for i in range(7,10) for j in range(4,7)]\n",
    "subsq_to_row_col[9] = [(i,j) for i in range(7,10) for j in range(7,10)]"
   ]
  },
  {
   "cell_type": "code",
   "execution_count": 3,
   "metadata": {},
   "outputs": [],
   "source": [
    "def create_sudoku_model(board):\n",
    "    model = ConcreteModel()\n",
    "\n",
    "    model.board = board\n",
    "\n",
    "    model.ROWS = RangeSet(1,9)\n",
    "    model.COLS = RangeSet(1,9)\n",
    "    model.SUBSQUARES = RangeSet(1,9)\n",
    "    model.VALUES = RangeSet(1,9)\n",
    "\n",
    "    model.y = Var(model.ROWS, model.COLS, model.VALUES, within=Binary)\n",
    "\n",
    "    for (r,c,v) in board:\n",
    "        model.y[r,c,v].fix(1)\n",
    "\n",
    "    model.obj = Objective(expr= 1.0)\n",
    "\n",
    "    def _RowCon(model, r, v):\n",
    "        return sum(model.y[r,c,v] for c in model.COLS) == 1\n",
    "    model.RowCon = Constraint(model.ROWS, model.VALUES, rule=_RowCon)\n",
    "\n",
    "    def _ColCon(model, c, v):\n",
    "        return sum(model.y[r,c,v] for r in model.ROWS) == 1\n",
    "    model.ColCon = Constraint(model.COLS, model.VALUES, rule=_ColCon)\n",
    "\n",
    "    def _SqCon(model, s, v):\n",
    "        return sum(model.y[r,c,v] for (r,c) in subsq_to_row_col[s]) == 1\n",
    "    model.SqCon = Constraint(model.SUBSQUARES, model.VALUES, rule=_SqCon)\n",
    "\n",
    "    def _ValueCon(model, r, c):\n",
    "        return sum(model.y[r,c,v] for v in model.VALUES) == 1\n",
    "    model.ValueCon = Constraint(model.ROWS, model.COLS, rule=_ValueCon)\n",
    "\n",
    "    return model"
   ]
  },
  {
   "cell_type": "code",
   "execution_count": 4,
   "metadata": {},
   "outputs": [],
   "source": [
    "def add_integer_cut(model):\n",
    "    if not hasattr(model, \"IntegerCuts\"):\n",
    "        model.IntegerCuts = ConstraintList()\n",
    "\n",
    "    cut_expr = 0.0\n",
    "    for r in model.ROWS:\n",
    "        for c in model.COLS:\n",
    "            for v in model.VALUES:\n",
    "                if not model.y[r,c,v].fixed:\n",
    "                    if value(model.y[r,c,v]) >= 0.5:\n",
    "                        cut_expr += (1.0 - model.y[r,c,v])\n",
    "                    else:\n",
    "                        cut_expr += model.y[r,c,v]\n",
    "    model.IntegerCuts.add(cut_expr >= 1)"
   ]
  },
  {
   "cell_type": "code",
   "execution_count": 5,
   "metadata": {},
   "outputs": [],
   "source": [
    "def print_solution(model):\n",
    "    for r in model.ROWS:\n",
    "        print(\" \".join(str(v) for c in model.COLS\n",
    "                              for v in model.VALUES\n",
    "                              if value(model.y[r,c,v]) >= 0.5))"
   ]
  },
  {
   "cell_type": "code",
   "execution_count": 6,
   "metadata": {},
   "outputs": [],
   "source": [
    "board = [(1,1,5),(1,2,3),(1,5,7),(2,1,6),(2,4,1),(2,5,9),(2,6,5),\n",
    "         (3,2,9),(3,3,8),(3,8,6),(4,1,8),(4,5,6),(4,9,3),(5,1,4),\n",
    "         (5,4,8),(5,6,3),(5,9,1),(6,1,7),(6,5,2),(6,9,6),(7,2,6),\n",
    "         (7,7,2),(7,8,8),(8,4,4),(8,5,1),(8,6,9)]\n",
    "\n",
    "model = create_sudoku_model(board)"
   ]
  },
  {
   "cell_type": "code",
   "execution_count": 7,
   "metadata": {},
   "outputs": [
    {
     "name": "stdout",
     "output_type": "stream",
     "text": [
      "WARNING: Constant objective detected, replacing with a placeholder to prevent\n",
      "    solver failure.\n",
      "Solution #1\n",
      "5 3 4 6 7 8 1 9 2\n",
      "6 7 2 1 9 5 3 4 8\n",
      "1 9 8 3 4 2 7 6 5\n",
      "8 5 9 7 6 1 4 2 3\n",
      "4 2 6 8 5 3 9 7 1\n",
      "7 1 3 9 2 4 8 5 6\n",
      "9 6 1 5 3 7 2 8 4\n",
      "2 8 5 4 1 9 6 3 7\n",
      "3 4 7 2 8 6 5 1 9\n",
      "WARNING: Constant objective detected, replacing with a placeholder to prevent\n",
      "    solver failure.\n",
      "Solution #2\n",
      "5 3 4 6 7 8 1 9 2\n",
      "6 7 2 1 9 5 3 4 8\n",
      "1 9 8 3 4 2 5 6 7\n",
      "8 5 9 7 6 1 4 2 3\n",
      "4 2 6 8 5 3 9 7 1\n",
      "7 1 3 9 2 4 8 5 6\n",
      "9 6 1 5 3 7 2 8 4\n",
      "2 8 7 4 1 9 6 3 5\n",
      "3 4 5 2 8 6 7 1 9\n",
      "WARNING: Constant objective detected, replacing with a placeholder to prevent\n",
      "    solver failure.\n",
      "Solution #3\n",
      "5 3 4 6 7 8 9 1 2\n",
      "6 7 2 1 9 5 3 4 8\n",
      "1 9 8 3 4 2 5 6 7\n",
      "8 5 9 7 6 1 4 2 3\n",
      "4 2 6 8 5 3 7 9 1\n",
      "7 1 3 9 2 4 8 5 6\n",
      "9 6 1 5 3 7 2 8 4\n",
      "2 8 7 4 1 9 6 3 5\n",
      "3 4 5 2 8 6 1 7 9\n",
      "WARNING: Constant objective detected, replacing with a placeholder to prevent\n",
      "    solver failure.\n",
      "All board solutions have been found\n"
     ]
    }
   ],
   "source": [
    "solution_count = 0\n",
    "while 1:\n",
    "    with SolverFactory(\"glpk\") as opt:\n",
    "        results = opt.solve(model)\n",
    "        if results.solver.termination_condition != TerminationCondition.optimal:\n",
    "            print(\"All board solutions have been found\")\n",
    "            break\n",
    "        solution_count += 1\n",
    "        add_integer_cut(model)\n",
    "        print(\"Solution #%d\" % (solution_count))\n",
    "        print_solution(model)"
   ]
  }
 ],
 "metadata": {
  "kernelspec": {
   "display_name": "Python 3",
   "language": "python",
   "name": "python3"
  },
  "language_info": {
   "codemirror_mode": {
    "name": "ipython",
    "version": 3
   },
   "file_extension": ".py",
   "mimetype": "text/x-python",
   "name": "python",
   "nbconvert_exporter": "python",
   "pygments_lexer": "ipython3",
   "version": "3.7.0"
  }
 },
 "nbformat": 4,
 "nbformat_minor": 2
}
