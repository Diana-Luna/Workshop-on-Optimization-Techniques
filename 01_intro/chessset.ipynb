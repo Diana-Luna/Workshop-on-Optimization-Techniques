{
 "cells": [
  {
   "cell_type": "code",
   "execution_count": 1,
   "metadata": {},
   "outputs": [],
   "source": [
    "from pyomo.environ import *"
   ]
  },
  {
   "cell_type": "markdown",
   "metadata": {},
   "source": [
    "### Weekly planning, real decision variables"
   ]
  },
  {
   "cell_type": "code",
   "execution_count": 2,
   "metadata": {},
   "outputs": [],
   "source": [
    "model = ConcreteModel(name=\"Chess set 1\")\n",
    "model.xs = Var(within=NonNegativeReals)\n",
    "model.xl = Var(within=NonNegativeReals)\n",
    "model.obj = Objective(expr= 5*model.xs + 20*model.xl, sense=maximize)\n",
    "model.latehours = Constraint(expr= 3*model.xs + 2*model.xl <= 160)\n",
    "model.boxwood = Constraint(expr= 1*model.xs+3*model.xl <= 200)"
   ]
  },
  {
   "cell_type": "code",
   "execution_count": 3,
   "metadata": {},
   "outputs": [
    {
     "name": "stdout",
     "output_type": "stream",
     "text": [
      "\n",
      "Problem: \n",
      "- Name: unknown\n",
      "  Lower bound: 1333.33333333333\n",
      "  Upper bound: 1333.33333333333\n",
      "  Number of objectives: 1\n",
      "  Number of constraints: 3\n",
      "  Number of variables: 3\n",
      "  Number of nonzeros: 5\n",
      "  Sense: maximize\n",
      "Solver: \n",
      "- Status: ok\n",
      "  Termination condition: optimal\n",
      "  Statistics: \n",
      "    Branch and bound: \n",
      "      Number of bounded subproblems: 0\n",
      "      Number of created subproblems: 0\n",
      "  Error rc: 0\n",
      "  Time: 0.025753021240234375\n",
      "Solution: \n",
      "- number of solutions: 0\n",
      "  number of solutions displayed: 0\n",
      "\n"
     ]
    }
   ],
   "source": [
    "solver = SolverFactory(\"glpk\")\n",
    "results = solver.solve(model)\n",
    "print(results)"
   ]
  },
  {
   "cell_type": "code",
   "execution_count": 4,
   "metadata": {},
   "outputs": [
    {
     "name": "stdout",
     "output_type": "stream",
     "text": [
      "0.0 66.6666666666667\n"
     ]
    }
   ],
   "source": [
    "print(value(model.xs), value(model.xl))"
   ]
  },
  {
   "cell_type": "code",
   "execution_count": 5,
   "metadata": {},
   "outputs": [
    {
     "name": "stdout",
     "output_type": "stream",
     "text": [
      "obj : Size=1, Index=None, Active=True\n",
      "    Key  : Active : Sense    : Expression\n",
      "    None :   True : maximize : 5*xs + 20*xl\n"
     ]
    }
   ],
   "source": [
    "model.obj.pprint()"
   ]
  },
  {
   "cell_type": "code",
   "execution_count": 6,
   "metadata": {},
   "outputs": [
    {
     "name": "stdout",
     "output_type": "stream",
     "text": [
      "latehours : Size=1, Index=None, Active=True\n",
      "    Key  : Lower : Body        : Upper : Active\n",
      "    None :  -Inf : 3*xs + 2*xl : 160.0 :   True\n"
     ]
    }
   ],
   "source": [
    "model.latehours.pprint()"
   ]
  },
  {
   "cell_type": "code",
   "execution_count": 7,
   "metadata": {},
   "outputs": [
    {
     "name": "stdout",
     "output_type": "stream",
     "text": [
      "boxwood : Size=1, Index=None, Active=True\n",
      "    Key  : Lower : Body      : Upper : Active\n",
      "    None :  -Inf : xs + 3*xl : 200.0 :   True\n"
     ]
    }
   ],
   "source": [
    "model.boxwood.pprint()"
   ]
  },
  {
   "cell_type": "markdown",
   "metadata": {},
   "source": [
    "### Weekly planning, integer decision variables"
   ]
  },
  {
   "cell_type": "code",
   "execution_count": 8,
   "metadata": {},
   "outputs": [],
   "source": [
    "model = ConcreteModel(name=\"Chess set 2\")\n",
    "model.xs = Var(within=NonNegativeIntegers)\n",
    "model.xl = Var(within=NonNegativeIntegers)\n",
    "model.obj = Objective(expr= 5*model.xs + 20*model.xl, sense=maximize)\n",
    "model.latehours = Constraint(expr= 3*model.xs + 2*model.xl <= 160)\n",
    "model.boxwood = Constraint(expr= 1*model.xs+3*model.xl <= 200)"
   ]
  },
  {
   "cell_type": "code",
   "execution_count": 9,
   "metadata": {},
   "outputs": [
    {
     "name": "stdout",
     "output_type": "stream",
     "text": [
      "\n",
      "Problem: \n",
      "- Name: unknown\n",
      "  Lower bound: 1330.0\n",
      "  Upper bound: 1330.0\n",
      "  Number of objectives: 1\n",
      "  Number of constraints: 3\n",
      "  Number of variables: 3\n",
      "  Number of nonzeros: 5\n",
      "  Sense: maximize\n",
      "Solver: \n",
      "- Status: ok\n",
      "  Termination condition: optimal\n",
      "  Statistics: \n",
      "    Branch and bound: \n",
      "      Number of bounded subproblems: 1\n",
      "      Number of created subproblems: 1\n",
      "  Error rc: 0\n",
      "  Time: 0.025293588638305664\n",
      "Solution: \n",
      "- number of solutions: 0\n",
      "  number of solutions displayed: 0\n",
      "\n"
     ]
    }
   ],
   "source": [
    "solver = SolverFactory(\"glpk\")\n",
    "results = solver.solve(model)\n",
    "print(results)"
   ]
  },
  {
   "cell_type": "code",
   "execution_count": 10,
   "metadata": {},
   "outputs": [
    {
     "name": "stdout",
     "output_type": "stream",
     "text": [
      "2.0 66.0\n"
     ]
    }
   ],
   "source": [
    "print(value(model.xs), value(model.xl))"
   ]
  },
  {
   "cell_type": "code",
   "execution_count": 11,
   "metadata": {},
   "outputs": [
    {
     "name": "stdout",
     "output_type": "stream",
     "text": [
      "obj : Size=1, Index=None, Active=True\n",
      "    Key  : Active : Sense    : Expression\n",
      "    None :   True : maximize : 5*xs + 20*xl\n"
     ]
    }
   ],
   "source": [
    "model.obj.pprint()"
   ]
  },
  {
   "cell_type": "code",
   "execution_count": 12,
   "metadata": {},
   "outputs": [
    {
     "name": "stdout",
     "output_type": "stream",
     "text": [
      "latehours : Size=1, Index=None, Active=True\n",
      "    Key  : Lower : Body        : Upper : Active\n",
      "    None :  -Inf : 3*xs + 2*xl : 160.0 :   True\n"
     ]
    }
   ],
   "source": [
    "model.latehours.pprint()"
   ]
  },
  {
   "cell_type": "code",
   "execution_count": 13,
   "metadata": {},
   "outputs": [
    {
     "name": "stdout",
     "output_type": "stream",
     "text": [
      "boxwood : Size=1, Index=None, Active=True\n",
      "    Key  : Lower : Body      : Upper : Active\n",
      "    None :  -Inf : xs + 3*xl : 200.0 :   True\n"
     ]
    }
   ],
   "source": [
    "model.boxwood.pprint()"
   ]
  },
  {
   "cell_type": "markdown",
   "metadata": {},
   "source": [
    "### Weekly planning, a generalized approach"
   ]
  },
  {
   "cell_type": "code",
   "execution_count": 14,
   "metadata": {},
   "outputs": [],
   "source": [
    "def objective(m):\n",
    "    return 5*m.xs + 20*m.xl\n",
    "\n",
    "def latehours(m):\n",
    "    return 3*m.xs + 2*m.xl <= 160\n",
    "\n",
    "def boxwood(m):\n",
    "    return 1*m.xs + 3*m.xl <= 200\n",
    "\n",
    "constraints = [latehours, boxwood]\n",
    "\n",
    "def constraint(m, idx):\n",
    "    return constraints[idx](m)\n",
    "\n",
    "def chess_set(onlyint):\n",
    "    typ = NonNegativeIntegers if onlyint else NonNegativeReals\n",
    "    model = ConcreteModel(name=\"Chess set\")\n",
    "    model.xs = Var(within=typ)\n",
    "    model.xl = Var(within=typ)\n",
    "    model.obj = Objective(rule=objective, sense=maximize)\n",
    "    model.constr = Constraint([0,1], rule=constraint)\n",
    "    solver = SolverFactory(\"glpk\")\n",
    "    solver.solve(model)\n",
    "    return model"
   ]
  },
  {
   "cell_type": "code",
   "execution_count": 15,
   "metadata": {},
   "outputs": [
    {
     "name": "stdout",
     "output_type": "stream",
     "text": [
      "1 Set Declarations\n",
      "    constr_index : Dim=0, Dimen=1, Size=2, Domain=None, Ordered=False, Bounds=(0, 1)\n",
      "        [0, 1]\n",
      "\n",
      "2 Var Declarations\n",
      "    xl : Size=1, Index=None\n",
      "        Key  : Lower : Value            : Upper : Fixed : Stale : Domain\n",
      "        None :     0 : 66.6666666666667 :  None : False : False : NonNegativeReals\n",
      "    xs : Size=1, Index=None\n",
      "        Key  : Lower : Value : Upper : Fixed : Stale : Domain\n",
      "        None :     0 :   0.0 :  None : False : False : NonNegativeReals\n",
      "\n",
      "1 Objective Declarations\n",
      "    obj : Size=1, Index=None, Active=True\n",
      "        Key  : Active : Sense    : Expression\n",
      "        None :   True : maximize : 5*xs + 20*xl\n",
      "\n",
      "1 Constraint Declarations\n",
      "    constr : Size=2, Index=constr_index, Active=True\n",
      "        Key : Lower : Body        : Upper : Active\n",
      "          0 :  -Inf : 3*xs + 2*xl : 160.0 :   True\n",
      "          1 :  -Inf :   xs + 3*xl : 200.0 :   True\n",
      "\n",
      "5 Declarations: xs xl obj constr_index constr\n"
     ]
    }
   ],
   "source": [
    "res = chess_set(False)\n",
    "res.pprint()"
   ]
  },
  {
   "cell_type": "code",
   "execution_count": 16,
   "metadata": {},
   "outputs": [
    {
     "name": "stdout",
     "output_type": "stream",
     "text": [
      "1 Set Declarations\n",
      "    constr_index : Dim=0, Dimen=1, Size=2, Domain=None, Ordered=False, Bounds=(0, 1)\n",
      "        [0, 1]\n",
      "\n",
      "2 Var Declarations\n",
      "    xl : Size=1, Index=None\n",
      "        Key  : Lower : Value : Upper : Fixed : Stale : Domain\n",
      "        None :     0 :  66.0 :  None : False : False : NonNegativeIntegers\n",
      "    xs : Size=1, Index=None\n",
      "        Key  : Lower : Value : Upper : Fixed : Stale : Domain\n",
      "        None :     0 :   2.0 :  None : False : False : NonNegativeIntegers\n",
      "\n",
      "1 Objective Declarations\n",
      "    obj : Size=1, Index=None, Active=True\n",
      "        Key  : Active : Sense    : Expression\n",
      "        None :   True : maximize : 5*xs + 20*xl\n",
      "\n",
      "1 Constraint Declarations\n",
      "    constr : Size=2, Index=constr_index, Active=True\n",
      "        Key : Lower : Body        : Upper : Active\n",
      "          0 :  -Inf : 3*xs + 2*xl : 160.0 :   True\n",
      "          1 :  -Inf :   xs + 3*xl : 200.0 :   True\n",
      "\n",
      "5 Declarations: xs xl obj constr_index constr\n"
     ]
    }
   ],
   "source": [
    "res = chess_set(True)\n",
    "res.pprint()"
   ]
  }
 ],
 "metadata": {
  "kernelspec": {
   "display_name": "Python 3",
   "language": "python",
   "name": "python3"
  },
  "language_info": {
   "codemirror_mode": {
    "name": "ipython",
    "version": 3
   },
   "file_extension": ".py",
   "mimetype": "text/x-python",
   "name": "python",
   "nbconvert_exporter": "python",
   "pygments_lexer": "ipython3",
   "version": "3.7.0"
  }
 },
 "nbformat": 4,
 "nbformat_minor": 2
}
