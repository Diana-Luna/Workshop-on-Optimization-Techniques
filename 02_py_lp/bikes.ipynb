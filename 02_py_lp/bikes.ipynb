{
 "cells": [
  {
   "cell_type": "code",
   "execution_count": 1,
   "metadata": {},
   "outputs": [],
   "source": [
    "from pyomo.environ import *"
   ]
  },
  {
   "cell_type": "code",
   "execution_count": 2,
   "metadata": {},
   "outputs": [],
   "source": [
    "demand = [30.0, 15.0, 15.0, 25.0, 33.0, 40.0,\n",
    "          45.0, 45.0, 26.0, 14.0, 25.0, 30.0]\n",
    "\n",
    "cost_normal = 32 *1000\n",
    "cost_overtime = 40 * 1000\n",
    "cost_store = 5 * 1000\n",
    "capacity = 30\n",
    "n = len(demand)"
   ]
  },
  {
   "cell_type": "code",
   "execution_count": 3,
   "metadata": {},
   "outputs": [],
   "source": [
    "model = ConcreteModel(name=\"Bicycle\")\n",
    "model.time = RangeSet(1,n)\n",
    "model.store_time = RangeSet(0,n)\n",
    "model.prod_normal = Var(model.time, bounds=(0,capacity))\n",
    "model.prod_overtime = Var(model.time, bounds=(0,capacity / 2))\n",
    "model.store = Var(model.store_time, within=NonNegativeReals)\n",
    "\n",
    "model.obj = Objective(expr=sum(cost_normal*model.prod_normal[i] +\n",
    "                               cost_overtime*model.prod_overtime[i] +\n",
    "                               cost_store*model.store[i] for i in model.time),\n",
    "                      sense=minimize)\n",
    "\n",
    "def time_constraint(model, t):\n",
    "    inflow = model.prod_normal[t] + model.prod_overtime[t] + model.store[t-1]\n",
    "    outflow = demand[t-1] + model.store[t]\n",
    "    return inflow == outflow\n",
    "\n",
    "model.constr = Constraint(model.time, rule=time_constraint)\n",
    "model.store[0].fix(2.0)"
   ]
  },
  {
   "cell_type": "code",
   "execution_count": 4,
   "metadata": {},
   "outputs": [
    {
     "name": "stdout",
     "output_type": "stream",
     "text": [
      "\n",
      "Problem: \n",
      "- Name: unknown\n",
      "  Lower bound: 11247000.0\n",
      "  Upper bound: 11247000.0\n",
      "  Number of objectives: 1\n",
      "  Number of constraints: 13\n",
      "  Number of variables: 37\n",
      "  Number of nonzeros: 48\n",
      "  Sense: minimize\n",
      "Solver: \n",
      "- Status: ok\n",
      "  Termination condition: optimal\n",
      "  Statistics: \n",
      "    Branch and bound: \n",
      "      Number of bounded subproblems: 0\n",
      "      Number of created subproblems: 0\n",
      "  Error rc: 0\n",
      "  Time: 0.04414820671081543\n",
      "Solution: \n",
      "- number of solutions: 0\n",
      "  number of solutions displayed: 0\n",
      "\n"
     ]
    }
   ],
   "source": [
    "solver = SolverFactory(\"glpk\")\n",
    "results = solver.solve(model)\n",
    "print(results)"
   ]
  },
  {
   "cell_type": "code",
   "execution_count": 5,
   "metadata": {},
   "outputs": [
    {
     "name": "stdout",
     "output_type": "stream",
     "text": [
      "2 RangeSet Declarations\n",
      "    store_time : Dim=0, Dimen=1, Size=13, Domain=Integers, Ordered=True, Bounds=(0, 12)\n",
      "        Virtual\n",
      "    time : Dim=0, Dimen=1, Size=12, Domain=Integers, Ordered=True, Bounds=(1, 12)\n",
      "        Virtual\n",
      "\n",
      "3 Var Declarations\n",
      "    prod_normal : Size=12, Index=time\n",
      "        Key : Lower : Value : Upper : Fixed : Stale : Domain\n",
      "          1 :     0 :  28.0 :    30 : False : False :  Reals\n",
      "          2 :     0 :  15.0 :    30 : False : False :  Reals\n",
      "          3 :     0 :  15.0 :    30 : False : False :  Reals\n",
      "          4 :     0 :  28.0 :    30 : False : False :  Reals\n",
      "          5 :     0 :  30.0 :    30 : False : False :  Reals\n",
      "          6 :     0 :  30.0 :    30 : False : False :  Reals\n",
      "          7 :     0 :  30.0 :    30 : False : False :  Reals\n",
      "          8 :     0 :  30.0 :    30 : False : False :  Reals\n",
      "          9 :     0 :  26.0 :    30 : False : False :  Reals\n",
      "         10 :     0 :  14.0 :    30 : False : False :  Reals\n",
      "         11 :     0 :  25.0 :    30 : False : False :  Reals\n",
      "         12 :     0 :  30.0 :    30 : False : False :  Reals\n",
      "    prod_overtime : Size=12, Index=time\n",
      "        Key : Lower : Value : Upper : Fixed : Stale : Domain\n",
      "          1 :     0 :   0.0 :  15.0 : False : False :  Reals\n",
      "          2 :     0 :   0.0 :  15.0 : False : False :  Reals\n",
      "          3 :     0 :   0.0 :  15.0 : False : False :  Reals\n",
      "          4 :     0 :   0.0 :  15.0 : False : False :  Reals\n",
      "          5 :     0 :   0.0 :  15.0 : False : False :  Reals\n",
      "          6 :     0 :  10.0 :  15.0 : False : False :  Reals\n",
      "          7 :     0 :  15.0 :  15.0 : False : False :  Reals\n",
      "          8 :     0 :  15.0 :  15.0 : False : False :  Reals\n",
      "          9 :     0 :   0.0 :  15.0 : False : False :  Reals\n",
      "         10 :     0 :   0.0 :  15.0 : False : False :  Reals\n",
      "         11 :     0 :   0.0 :  15.0 : False : False :  Reals\n",
      "         12 :     0 :   0.0 :  15.0 : False : False :  Reals\n",
      "    store : Size=13, Index=store_time\n",
      "        Key : Lower : Value : Upper : Fixed : Stale : Domain\n",
      "          0 :     0 :   2.0 :  None :  True :  True : NonNegativeReals\n",
      "          1 :     0 :   0.0 :  None : False : False : NonNegativeReals\n",
      "          2 :     0 :   0.0 :  None : False : False : NonNegativeReals\n",
      "          3 :     0 :   0.0 :  None : False : False : NonNegativeReals\n",
      "          4 :     0 :   3.0 :  None : False : False : NonNegativeReals\n",
      "          5 :     0 :   0.0 :  None : False : False : NonNegativeReals\n",
      "          6 :     0 :   0.0 :  None : False : False : NonNegativeReals\n",
      "          7 :     0 :   0.0 :  None : False : False : NonNegativeReals\n",
      "          8 :     0 :   0.0 :  None : False : False : NonNegativeReals\n",
      "          9 :     0 :   0.0 :  None : False : False : NonNegativeReals\n",
      "         10 :     0 :   0.0 :  None : False : False : NonNegativeReals\n",
      "         11 :     0 :   0.0 :  None : False : False : NonNegativeReals\n",
      "         12 :     0 :   0.0 :  None : False : False : NonNegativeReals\n",
      "\n",
      "1 Objective Declarations\n",
      "    obj : Size=1, Index=None, Active=True\n",
      "        Key  : Active : Sense    : Expression\n",
      "        None :   True : minimize : 32000*prod_normal[1] + 40000*prod_overtime[1] + 5000*store[1] + 32000*prod_normal[2] + 40000*prod_overtime[2] + 5000*store[2] + 32000*prod_normal[3] + 40000*prod_overtime[3] + 5000*store[3] + 32000*prod_normal[4] + 40000*prod_overtime[4] + 5000*store[4] + 32000*prod_normal[5] + 40000*prod_overtime[5] + 5000*store[5] + 32000*prod_normal[6] + 40000*prod_overtime[6] + 5000*store[6] + 32000*prod_normal[7] + 40000*prod_overtime[7] + 5000*store[7] + 32000*prod_normal[8] + 40000*prod_overtime[8] + 5000*store[8] + 32000*prod_normal[9] + 40000*prod_overtime[9] + 5000*store[9] + 32000*prod_normal[10] + 40000*prod_overtime[10] + 5000*store[10] + 32000*prod_normal[11] + 40000*prod_overtime[11] + 5000*store[11] + 32000*prod_normal[12] + 40000*prod_overtime[12] + 5000*store[12]\n",
      "\n",
      "1 Constraint Declarations\n",
      "    constr : Size=12, Index=time, Active=True\n",
      "        Key : Lower : Body                                                                : Upper : Active\n",
      "          1 :   0.0 :     -30.0 + prod_normal[1] + prod_overtime[1] + store[0] - store[1] :   0.0 :   True\n",
      "          2 :   0.0 :     -15.0 + prod_normal[2] + prod_overtime[2] + store[1] - store[2] :   0.0 :   True\n",
      "          3 :   0.0 :     -15.0 + prod_normal[3] + prod_overtime[3] + store[2] - store[3] :   0.0 :   True\n",
      "          4 :   0.0 :     -25.0 + prod_normal[4] + prod_overtime[4] + store[3] - store[4] :   0.0 :   True\n",
      "          5 :   0.0 :     -33.0 + prod_normal[5] + prod_overtime[5] + store[4] - store[5] :   0.0 :   True\n",
      "          6 :   0.0 :     -40.0 + prod_normal[6] + prod_overtime[6] + store[5] - store[6] :   0.0 :   True\n",
      "          7 :   0.0 :     -45.0 + prod_normal[7] + prod_overtime[7] + store[6] - store[7] :   0.0 :   True\n",
      "          8 :   0.0 :     -45.0 + prod_normal[8] + prod_overtime[8] + store[7] - store[8] :   0.0 :   True\n",
      "          9 :   0.0 :     -26.0 + prod_normal[9] + prod_overtime[9] + store[8] - store[9] :   0.0 :   True\n",
      "         10 :   0.0 :  -14.0 + prod_normal[10] + prod_overtime[10] + store[9] - store[10] :   0.0 :   True\n",
      "         11 :   0.0 : -25.0 + prod_normal[11] + prod_overtime[11] + store[10] - store[11] :   0.0 :   True\n",
      "         12 :   0.0 : -30.0 + prod_normal[12] + prod_overtime[12] + store[11] - store[12] :   0.0 :   True\n",
      "\n",
      "7 Declarations: time store_time prod_normal prod_overtime store obj constr\n"
     ]
    }
   ],
   "source": [
    "model.pprint()"
   ]
  },
  {
   "cell_type": "code",
   "execution_count": 6,
   "metadata": {},
   "outputs": [
    {
     "name": "stdout",
     "output_type": "stream",
     "text": [
      "demand\tnormal\tover\tstore\n",
      "30.0\t28.0\t 0.0\t 0.0\n",
      "15.0\t15.0\t 0.0\t 0.0\n",
      "15.0\t15.0\t 0.0\t 0.0\n",
      "25.0\t28.0\t 0.0\t 3.0\n",
      "33.0\t30.0\t 0.0\t 0.0\n",
      "40.0\t30.0\t10.0\t 0.0\n",
      "45.0\t30.0\t15.0\t 0.0\n",
      "45.0\t30.0\t15.0\t 0.0\n",
      "26.0\t26.0\t 0.0\t 0.0\n",
      "14.0\t14.0\t 0.0\t 0.0\n",
      "25.0\t25.0\t 0.0\t 0.0\n",
      "30.0\t30.0\t 0.0\t 0.0\n"
     ]
    }
   ],
   "source": [
    "print(\"demand\\tnormal\\tover\\tstore\")\n",
    "for t in range(1, 13):\n",
    "    print(\"{:4}\\t{:4}\\t{:4}\\t{:4}\".format(demand[t-1],\n",
    "          value(model.prod_normal[t]),\n",
    "          value(model.prod_overtime[t]), value(model.store[t])))"
   ]
  }
 ],
 "metadata": {
  "kernelspec": {
   "display_name": "Python 3",
   "language": "python",
   "name": "python3"
  },
  "language_info": {
   "codemirror_mode": {
    "name": "ipython",
    "version": 3
   },
   "file_extension": ".py",
   "mimetype": "text/x-python",
   "name": "python",
   "nbconvert_exporter": "python",
   "pygments_lexer": "ipython3",
   "version": "3.7.0"
  }
 },
 "nbformat": 4,
 "nbformat_minor": 2
}
