{
 "cells": [
  {
   "cell_type": "code",
   "execution_count": 1,
   "metadata": {},
   "outputs": [],
   "source": [
    "from pyomo.environ import *\n",
    "from timeit import default_timer as timer"
   ]
  },
  {
   "cell_type": "code",
   "execution_count": 2,
   "metadata": {},
   "outputs": [],
   "source": [
    "def genproblem():\n",
    "    m = ConcreteModel()\n",
    "    m.XRANGE = RangeSet(1,4000000)\n",
    "    m.YRANGE = RangeSet(1,2000)\n",
    "    m.x = Var(m.XRANGE)\n",
    "    m.y = Var(m.YRANGE, within=Binary)\n",
    "    m.obj = Objective(expr=sum(m.x[i] for i in m.XRANGE) +\n",
    "                          sum(m.y[i] for i in m.YRANGE))\n",
    "    def xconstraint(m, i):\n",
    "        return m.x[i] <= i\n",
    "    m.con1 = Constraint(m.XRANGE, rule=xconstraint)\n",
    "    def yconstraint(m, i, j):\n",
    "        return m.y[i] + m.y[j] <= 1\n",
    "    m.con2 = Constraint(m.YRANGE, m.YRANGE, rule=yconstraint)\n",
    "    return m"
   ]
  },
  {
   "cell_type": "code",
   "execution_count": 3,
   "metadata": {},
   "outputs": [
    {
     "name": "stdout",
     "output_type": "stream",
     "text": [
      "217.539097822\n"
     ]
    }
   ],
   "source": [
    "start = timer()\n",
    "genproblem()\n",
    "end = timer()\n",
    "print(end - start)"
   ]
  }
 ],
 "metadata": {
  "kernelspec": {
   "display_name": "Python 3",
   "language": "python",
   "name": "python3"
  },
  "language_info": {
   "codemirror_mode": {
    "name": "ipython",
    "version": 3
   },
   "file_extension": ".py",
   "mimetype": "text/x-python",
   "name": "python",
   "nbconvert_exporter": "python",
   "pygments_lexer": "ipython3",
   "version": "3.7.0"
  }
 },
 "nbformat": 4,
 "nbformat_minor": 2
}
