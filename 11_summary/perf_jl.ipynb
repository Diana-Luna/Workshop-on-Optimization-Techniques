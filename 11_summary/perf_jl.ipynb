{
 "cells": [
  {
   "cell_type": "code",
   "execution_count": 1,
   "metadata": {},
   "outputs": [],
   "source": [
    "using JuMP\n",
    "using GLPKMathProgInterface"
   ]
  },
  {
   "cell_type": "code",
   "execution_count": 2,
   "metadata": {},
   "outputs": [
    {
     "data": {
      "text/plain": [
       "genproblem (generic function with 1 method)"
      ]
     },
     "execution_count": 2,
     "metadata": {},
     "output_type": "execute_result"
    }
   ],
   "source": [
    "function genproblem()\n",
    "    m = Model(solver=GLPKSolverMIP())\n",
    "    @variable(m, x[1:4_000_000])\n",
    "    @variable(m, y[1:2000], Bin)\n",
    "    @objective(m, Max, sum(x)+sum(y))\n",
    "    for i in 1:4_000_000\n",
    "        @constraint(m, x[i] <= i)\n",
    "    end\n",
    "    for i in 1:2000, j in 1:2000\n",
    "        @constraint(m, y[i] + y[j] <= 1)\n",
    "    end\n",
    "    m\n",
    "end"
   ]
  },
  {
   "cell_type": "code",
   "execution_count": 3,
   "metadata": {},
   "outputs": [
    {
     "name": "stdout",
     "output_type": "stream",
     "text": [
      " 16.650092 seconds (72.18 M allocations: 3.527 GiB, 41.42% gc time)\n"
     ]
    }
   ],
   "source": [
    "@time genproblem();"
   ]
  }
 ],
 "metadata": {
  "kernelspec": {
   "display_name": "Julia 1.0.2",
   "language": "julia",
   "name": "julia-1.0"
  },
  "language_info": {
   "file_extension": ".jl",
   "mimetype": "application/julia",
   "name": "julia",
   "version": "1.0.3"
  }
 },
 "nbformat": 4,
 "nbformat_minor": 2
}
