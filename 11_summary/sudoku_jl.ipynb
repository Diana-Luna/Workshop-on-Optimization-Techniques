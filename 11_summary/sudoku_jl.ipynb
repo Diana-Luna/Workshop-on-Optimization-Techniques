{
 "cells": [
  {
   "cell_type": "code",
   "execution_count": 1,
   "metadata": {},
   "outputs": [],
   "source": [
    "using JuMP\n",
    "using GLPKMathProgInterface"
   ]
  },
  {
   "cell_type": "code",
   "execution_count": 2,
   "metadata": {},
   "outputs": [
    {
     "data": {
      "text/plain": [
       "sudokusolver (generic function with 1 method)"
      ]
     },
     "execution_count": 2,
     "metadata": {},
     "output_type": "execute_result"
    }
   ],
   "source": [
    "function sudokusolver(board)\n",
    "    m = Model(solver=GLPKSolverMIP())\n",
    "    @variable(m, x[1:9, 1:9, 1:9], Bin)\n",
    "    for i in 1:9, j in 1:9\n",
    "        @constraint(m, sum(x[i, j, :]) == 1)\n",
    "        @constraint(m, sum(x[i, :, j]) == 1)\n",
    "        @constraint(m, sum(x[:, i, j]) == 1)\n",
    "        for (i, j, k) in board\n",
    "            @constraint(m, x[i, j, k] == 1)\n",
    "        end\n",
    "    end\n",
    "    for i in 0:2, j in 0:2, k in 1:9\n",
    "        @constraint(m, sum(x[3i .+ (1:3), 3j .+ (1:3), k]) == 1)\n",
    "    end\n",
    "\n",
    "    solution_count = 0\n",
    "    sol = zeros(Int, 9, 9)\n",
    "    while true\n",
    "        res = solve(m)\n",
    "        if res == :Optimal\n",
    "            solution_count += 1\n",
    "            display(\"Solution #$solution_count\")\n",
    "            xv = round.(Int, getvalue(x))\n",
    "            for idx in findall(==(1), xv)\n",
    "                sol[idx[1], idx[2]] = idx[3]\n",
    "            end\n",
    "            display(sol)\n",
    "            @constraint(m, sum(xv .* x) <= 80)\n",
    "        else\n",
    "            display(\"All board solutions have been found\")\n",
    "            return\n",
    "        end\n",
    "    end\n",
    "end"
   ]
  },
  {
   "cell_type": "code",
   "execution_count": 3,
   "metadata": {},
   "outputs": [
    {
     "data": {
      "text/plain": [
       "\"Solution #1\""
      ]
     },
     "metadata": {},
     "output_type": "display_data"
    },
    {
     "data": {
      "text/plain": [
       "9×9 Array{Int64,2}:\n",
       " 5  3  4  6  7  8  1  9  2\n",
       " 6  7  2  1  9  5  3  4  8\n",
       " 1  9  8  3  4  2  5  6  7\n",
       " 8  5  9  7  6  1  4  2  3\n",
       " 4  2  6  8  5  3  9  7  1\n",
       " 7  1  3  9  2  4  8  5  6\n",
       " 9  6  1  5  3  7  2  8  4\n",
       " 2  8  7  4  1  9  6  3  5\n",
       " 3  4  5  2  8  6  7  1  9"
      ]
     },
     "metadata": {},
     "output_type": "display_data"
    },
    {
     "data": {
      "text/plain": [
       "\"Solution #2\""
      ]
     },
     "metadata": {},
     "output_type": "display_data"
    },
    {
     "data": {
      "text/plain": [
       "9×9 Array{Int64,2}:\n",
       " 5  3  4  6  7  8  9  1  2\n",
       " 6  7  2  1  9  5  3  4  8\n",
       " 1  9  8  3  4  2  5  6  7\n",
       " 8  5  9  7  6  1  4  2  3\n",
       " 4  2  6  8  5  3  7  9  1\n",
       " 7  1  3  9  2  4  8  5  6\n",
       " 9  6  1  5  3  7  2  8  4\n",
       " 2  8  7  4  1  9  6  3  5\n",
       " 3  4  5  2  8  6  1  7  9"
      ]
     },
     "metadata": {},
     "output_type": "display_data"
    },
    {
     "data": {
      "text/plain": [
       "\"Solution #3\""
      ]
     },
     "metadata": {},
     "output_type": "display_data"
    },
    {
     "data": {
      "text/plain": [
       "9×9 Array{Int64,2}:\n",
       " 5  3  4  6  7  8  1  9  2\n",
       " 6  7  2  1  9  5  3  4  8\n",
       " 1  9  8  3  4  2  7  6  5\n",
       " 8  5  9  7  6  1  4  2  3\n",
       " 4  2  6  8  5  3  9  7  1\n",
       " 7  1  3  9  2  4  8  5  6\n",
       " 9  6  1  5  3  7  2  8  4\n",
       " 2  8  5  4  1  9  6  3  7\n",
       " 3  4  7  2  8  6  5  1  9"
      ]
     },
     "metadata": {},
     "output_type": "display_data"
    },
    {
     "data": {
      "text/plain": [
       "\"All board solutions have been found\""
      ]
     },
     "metadata": {},
     "output_type": "display_data"
    },
    {
     "name": "stderr",
     "output_type": "stream",
     "text": [
      "┌ Warning: Not solved to optimality, status: Infeasible\n",
      "└ @ JuMP C:\\Users\\bogum\\.julia\\packages\\JuMP\\PbnIJ\\src\\solvers.jl:212\n",
      "┌ Warning: Infeasibility ray (Farkas proof) not available\n",
      "└ @ JuMP C:\\Users\\bogum\\.julia\\packages\\JuMP\\PbnIJ\\src\\solvers.jl:223\n"
     ]
    }
   ],
   "source": [
    "board = [(1,1,5),(1,2,3),(1,5,7),(2,1,6),(2,4,1),(2,5,9),(2,6,5),\n",
    "         (3,2,9),(3,3,8),(3,8,6),(4,1,8),(4,5,6),(4,9,3),(5,1,4),\n",
    "         (5,4,8),(5,6,3),(5,9,1),(6,1,7),(6,5,2),(6,9,6),(7,2,6),\n",
    "         (7,7,2),(7,8,8),(8,4,4),(8,5,1),(8,6,9)]\n",
    "\n",
    "sudokusolver(board)"
   ]
  }
 ],
 "metadata": {
  "kernelspec": {
   "display_name": "Julia 1.0.2",
   "language": "julia",
   "name": "julia-1.0"
  },
  "language_info": {
   "file_extension": ".jl",
   "mimetype": "application/julia",
   "name": "julia",
   "version": "1.0.3"
  }
 },
 "nbformat": 4,
 "nbformat_minor": 2
}
