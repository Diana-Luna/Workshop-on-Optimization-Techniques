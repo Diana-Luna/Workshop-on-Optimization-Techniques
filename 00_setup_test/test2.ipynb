{
 "cells": [
  {
   "cell_type": "code",
   "execution_count": 1,
   "metadata": {},
   "outputs": [],
   "source": [
    "from pyomo.environ import *"
   ]
  },
  {
   "cell_type": "code",
   "execution_count": 2,
   "metadata": {},
   "outputs": [],
   "source": [
    "model = ConcreteModel(name=\"Test2\")\n",
    "model.x = Var(initialize=10)\n",
    "model.y = Var(initialize=10)\n",
    "\n",
    "def rosenbrock(model):\n",
    "    return (1.0-model.x)**2 + 100.0*(model.y - model.x**2)**2\n",
    "\n",
    "model.obj = Objective(rule=rosenbrock, sense=minimize)"
   ]
  },
  {
   "cell_type": "code",
   "execution_count": 3,
   "metadata": {},
   "outputs": [
    {
     "name": "stdout",
     "output_type": "stream",
     "text": [
      "1.0000000152055715 1.0000000147239585\n"
     ]
    }
   ],
   "source": [
    "solver = SolverFactory(\"ipopt\")\n",
    "results = solver.solve(model)\n",
    "print(value(model.x), value(model.y))"
   ]
  }
 ],
 "metadata": {
  "kernelspec": {
   "display_name": "Python 3",
   "language": "python",
   "name": "python3"
  },
  "language_info": {
   "codemirror_mode": {
    "name": "ipython",
    "version": 3
   },
   "file_extension": ".py",
   "mimetype": "text/x-python",
   "name": "python",
   "nbconvert_exporter": "python",
   "pygments_lexer": "ipython3",
   "version": "3.7.0"
  }
 },
 "nbformat": 4,
 "nbformat_minor": 2
}
