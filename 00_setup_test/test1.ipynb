{
 "cells": [
  {
   "cell_type": "code",
   "execution_count": 1,
   "metadata": {},
   "outputs": [],
   "source": [
    "from pyomo.environ import *"
   ]
  },
  {
   "cell_type": "code",
   "execution_count": 2,
   "metadata": {},
   "outputs": [],
   "source": [
    "model = ConcreteModel(name=\"Test1\")\n",
    "model.x = Var(within=Integers)\n",
    "model.y = Var(within=Integers)\n",
    "model.o = Objective(expr= model.x+model.y)\n",
    "model.c1 = Constraint(expr= 2*model.x+model.y >= 3)\n",
    "model.c2 = Constraint(expr= model.x+2*model.y >= 3)\n",
    "solver = SolverFactory(\"glpk\")"
   ]
  },
  {
   "cell_type": "code",
   "execution_count": 3,
   "metadata": {},
   "outputs": [
    {
     "name": "stdout",
     "output_type": "stream",
     "text": [
      "1.0 1.0\n"
     ]
    }
   ],
   "source": [
    "results = solver.solve(model)\n",
    "print(value(model.x), value(model.y))"
   ]
  }
 ],
 "metadata": {
  "kernelspec": {
   "display_name": "Python 3",
   "language": "python",
   "name": "python3"
  },
  "language_info": {
   "codemirror_mode": {
    "name": "ipython",
    "version": 3
   },
   "file_extension": ".py",
   "mimetype": "text/x-python",
   "name": "python",
   "nbconvert_exporter": "python",
   "pygments_lexer": "ipython3",
   "version": "3.7.0"
  }
 },
 "nbformat": 4,
 "nbformat_minor": 2
}
