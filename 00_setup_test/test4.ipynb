{
 "cells": [
  {
   "cell_type": "code",
   "execution_count": 1,
   "metadata": {},
   "outputs": [],
   "source": [
    "using Ipopt\n",
    "using JuMP"
   ]
  },
  {
   "cell_type": "code",
   "execution_count": 2,
   "metadata": {},
   "outputs": [],
   "source": [
    "m = Model(solver = IpoptSolver())\n",
    "@variable(m, x, start=10)\n",
    "@variable(m, y, start=10)\n",
    "@NLexpression(m, rosenbrock, (1 - x)^2 + 100(y - x^2)^2)\n",
    "@NLobjective(m, Min, rosenbrock);"
   ]
  },
  {
   "cell_type": "code",
   "execution_count": 3,
   "metadata": {},
   "outputs": [
    {
     "name": "stdout",
     "output_type": "stream",
     "text": [
      "\n",
      "******************************************************************************\n",
      "This program contains Ipopt, a library for large-scale nonlinear optimization.\n",
      " Ipopt is released as open source code under the Eclipse Public License (EPL).\n",
      "         For more information visit http://projects.coin-or.org/Ipopt\n",
      "******************************************************************************\n",
      "\n",
      "This is Ipopt version 3.12.10, running with linear solver mumps.\n",
      "NOTE: Other linear solvers might be more efficient (see Ipopt documentation).\n",
      "\n",
      "Number of nonzeros in equality constraint Jacobian...:        0\n",
      "Number of nonzeros in inequality constraint Jacobian.:        0\n",
      "Number of nonzeros in Lagrangian Hessian.............:        3\n",
      "\n",
      "Total number of variables............................:        2\n",
      "                     variables with only lower bounds:        0\n",
      "                variables with lower and upper bounds:        0\n",
      "                     variables with only upper bounds:        0\n",
      "Total number of equality constraints.................:        0\n",
      "Total number of inequality constraints...............:        0\n",
      "        inequality constraints with only lower bounds:        0\n",
      "   inequality constraints with lower and upper bounds:        0\n",
      "        inequality constraints with only upper bounds:        0\n",
      "\n",
      "iter    objective    inf_pr   inf_du lg(mu)  ||d||  lg(rg) alpha_du alpha_pr  ls\n",
      "   0  8.1008100e+05 0.00e+00 1.00e+02  -1.0 0.00e+00    -  0.00e+00 0.00e+00   0\n",
      "   1  8.0991001e+01 0.00e+00 5.00e-03  -1.0 9.00e+01    -  1.00e+00 1.00e+00f  1\n",
      "   2  7.6633847e+01 0.00e+00 9.02e-02  -3.8 1.80e+02    -  1.00e+00 3.12e-02f  6\n",
      "   3  7.4460854e+01 0.00e+00 2.79e-01  -3.8 1.00e+01    -  1.00e+00 1.00e+00f  1\n",
      "   4  6.4854348e+01 0.00e+00 2.70e-02  -3.8 2.49e+00    -  1.00e+00 1.00e+00f  1\n",
      "   5  6.1324534e+01 0.00e+00 1.50e-01  -3.8 2.65e+01    -  1.00e+00 2.50e-01f  3\n",
      "   6  5.5682148e+01 0.00e+00 6.07e-02  -3.8 4.11e+00    -  1.00e+00 1.00e+00f  1\n",
      "   7  5.2401345e+01 0.00e+00 1.05e-01  -3.8 9.55e+00    -  1.00e+00 5.00e-01f  2\n",
      "   8  4.7754183e+01 0.00e+00 8.64e-02  -3.8 4.91e+00    -  1.00e+00 1.00e+00f  1\n",
      "   9  4.3662081e+01 0.00e+00 1.02e-01  -3.8 5.29e+00    -  1.00e+00 1.00e+00f  1\n",
      "iter    objective    inf_pr   inf_du lg(mu)  ||d||  lg(rg) alpha_du alpha_pr  ls\n",
      "  10  3.9394585e+01 0.00e+00 5.99e-02  -3.8 3.86e+00    -  1.00e+00 1.00e+00f  1\n",
      "  11  3.6854350e+01 0.00e+00 1.33e-01  -3.8 5.93e+00    -  1.00e+00 1.00e+00f  1\n",
      "  12  3.2085703e+01 0.00e+00 2.32e-02  -3.8 2.07e+00    -  1.00e+00 1.00e+00f  1\n",
      "  13  3.1530610e+01 0.00e+00 1.46e-01  -3.8 1.17e+01    -  1.00e+00 5.00e-01f  2\n",
      "  14  2.5979012e+01 0.00e+00 1.30e-02  -3.8 1.32e+00    -  1.00e+00 1.00e+00f  1\n",
      "  15  2.4078492e+01 0.00e+00 7.46e-02  -3.8 1.55e+01    -  1.00e+00 2.50e-01f  3\n",
      "  16  2.1087884e+01 0.00e+00 2.83e-02  -3.8 2.25e+00    -  1.00e+00 1.00e+00f  1\n",
      "  17  1.9387060e+01 0.00e+00 5.03e-02  -3.8 5.43e+00    -  1.00e+00 5.00e-01f  2\n",
      "  18  1.7017660e+01 0.00e+00 3.80e-02  -3.8 2.60e+00    -  1.00e+00 1.00e+00f  1\n",
      "  19  1.5063675e+01 0.00e+00 4.92e-02  -3.8 2.96e+00    -  1.00e+00 1.00e+00f  1\n",
      "iter    objective    inf_pr   inf_du lg(mu)  ||d||  lg(rg) alpha_du alpha_pr  ls\n",
      "  20  1.2958390e+01 0.00e+00 2.26e-02  -3.8 1.84e+00    -  1.00e+00 1.00e+00f  1\n",
      "  21  1.2513155e+01 0.00e+00 7.34e-02  -3.8 3.55e+00    -  1.00e+00 1.00e+00f  1\n",
      "  22  9.5226473e+00 0.00e+00 6.26e-03  -3.8 6.84e-01    -  1.00e+00 1.00e+00f  1\n",
      "  23  8.5338704e+00 0.00e+00 3.28e-02  -3.8 8.38e+00    -  1.00e+00 2.50e-01f  3\n",
      "  24  7.1136874e+00 0.00e+00 1.47e-02  -3.8 1.31e+00    -  1.00e+00 1.00e+00f  1\n",
      "  25  6.8119639e+00 0.00e+00 4.68e-02  -3.8 2.54e+00    -  1.00e+00 1.00e+00f  1\n",
      "  26  4.8721269e+00 0.00e+00 4.03e-03  -3.8 4.60e-01    -  1.00e+00 1.00e+00f  1\n",
      "  27  4.2350023e+00 0.00e+00 1.83e-02  -3.8 5.49e+00    -  1.00e+00 2.50e-01f  3\n",
      "  28  3.3933398e+00 0.00e+00 1.06e-02  -3.8 9.96e-01    -  1.00e+00 1.00e+00f  1\n",
      "  29  2.8588722e+00 0.00e+00 1.93e-02  -3.8 1.40e+00    -  1.00e+00 1.00e+00f  1\n",
      "iter    objective    inf_pr   inf_du lg(mu)  ||d||  lg(rg) alpha_du alpha_pr  ls\n",
      "  30  2.1180135e+00 0.00e+00 4.22e-03  -3.8 5.09e-01    -  1.00e+00 1.00e+00f  1\n",
      "  31  1.7857378e+00 0.00e+00 1.29e-02  -3.8 2.01e+00    -  1.00e+00 5.00e-01f  2\n",
      "  32  1.2901409e+00 0.00e+00 3.76e-03  -3.8 4.67e-01    -  1.00e+00 1.00e+00f  1\n",
      "  33  1.0408589e+00 0.00e+00 7.23e-03  -3.8 1.30e+00    -  1.00e+00 5.00e-01f  2\n",
      "  34  7.3493744e-01 0.00e+00 4.30e-03  -3.8 5.10e-01    -  1.00e+00 1.00e+00f  1\n",
      "  35  5.3209860e-01 0.00e+00 6.08e-03  -3.8 6.27e-01    -  1.00e+00 1.00e+00f  1\n",
      "  36  3.3052013e-01 0.00e+00 1.79e-03  -3.8 2.74e-01    -  1.00e+00 1.00e+00f  1\n",
      "  37  3.2771471e-01 0.00e+00 6.94e-03  -3.8 6.55e-01    -  1.00e+00 1.00e+00f  1\n",
      "  38  1.0337241e-01 0.00e+00 3.68e-04  -3.8 5.27e-02    -  1.00e+00 1.00e+00f  1\n",
      "  39  6.6202749e-02 0.00e+00 2.36e-03  -5.7 6.74e-01    -  1.00e+00 5.00e-01f  2\n",
      "iter    objective    inf_pr   inf_du lg(mu)  ||d||  lg(rg) alpha_du alpha_pr  ls\n",
      "  40  2.2718807e-02 0.00e+00 3.31e-04  -5.7 8.83e-02    -  1.00e+00 1.00e+00f  1\n",
      "  41  1.5171732e-02 0.00e+00 1.36e-03  -5.7 2.46e-01    -  1.00e+00 1.00e+00f  1\n",
      "  42  8.5651081e-04 0.00e+00 3.44e-05  -5.7 1.47e-02    -  1.00e+00 1.00e+00f  1\n",
      "  43  6.5153268e-05 0.00e+00 8.97e-05  -5.7 5.81e-02    -  1.00e+00 1.00e+00f  1\n",
      "  44  1.5552770e-08 0.00e+00 1.36e-07  -5.7 7.76e-04    -  1.00e+00 1.00e+00f  1\n",
      "  45  2.4289869e-14 0.00e+00 1.73e-09  -8.6 2.49e-04    -  1.00e+00 1.00e+00f  1\n",
      "\n",
      "Number of Iterations....: 45\n",
      "\n",
      "                                   (scaled)                 (unscaled)\n",
      "Objective...............:   6.7468484760425689e-18    2.4289868946478935e-14\n",
      "Dual infeasibility......:   1.7318879973506858e-09    6.2351085303019919e-06\n",
      "Constraint violation....:   0.0000000000000000e+00    0.0000000000000000e+00\n",
      "Complementarity.........:   0.0000000000000000e+00    0.0000000000000000e+00\n",
      "Overall NLP error.......:   1.7318879973506858e-09    6.2351085303019919e-06\n",
      "\n",
      "\n",
      "Number of objective function evaluations             = 109\n",
      "Number of objective gradient evaluations             = 46\n",
      "Number of equality constraint evaluations            = 0\n",
      "Number of inequality constraint evaluations          = 0\n",
      "Number of equality constraint Jacobian evaluations   = 0\n",
      "Number of inequality constraint Jacobian evaluations = 0\n",
      "Number of Lagrangian Hessian evaluations             = 45\n",
      "Total CPU secs in IPOPT (w/o function evaluations)   =      0.307\n",
      "Total CPU secs in NLP function evaluations           =      0.065\n",
      "\n",
      "EXIT: Optimal Solution Found.\n"
     ]
    },
    {
     "data": {
      "text/plain": [
       ":Optimal"
      ]
     },
     "execution_count": 3,
     "metadata": {},
     "output_type": "execute_result"
    }
   ],
   "source": [
    "status = solve(m)"
   ]
  },
  {
   "cell_type": "code",
   "execution_count": 4,
   "metadata": {},
   "outputs": [
    {
     "name": "stdout",
     "output_type": "stream",
     "text": [
      "x=1.0000000150180794, y=1.0000000145234784\n"
     ]
    }
   ],
   "source": [
    "println(\"x=$(getvalue(x)), y=$(getvalue(y))\")"
   ]
  }
 ],
 "metadata": {
  "kernelspec": {
   "display_name": "Julia 1.0.2",
   "language": "julia",
   "name": "julia-1.0"
  },
  "language_info": {
   "file_extension": ".jl",
   "mimetype": "application/julia",
   "name": "julia",
   "version": "1.0.3"
  }
 },
 "nbformat": 4,
 "nbformat_minor": 2
}
