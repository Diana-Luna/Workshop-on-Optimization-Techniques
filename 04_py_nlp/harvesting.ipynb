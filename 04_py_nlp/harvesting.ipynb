{
 "cells": [
  {
   "cell_type": "code",
   "execution_count": 1,
   "metadata": {},
   "outputs": [],
   "source": [
    "from pyomo.environ import *"
   ]
  },
  {
   "cell_type": "code",
   "execution_count": 2,
   "metadata": {},
   "outputs": [],
   "source": [
    "p1 = 0.88\n",
    "p2 = 0.82\n",
    "p3 = 0.92\n",
    "p4 = 0.84\n",
    "p5 = 0.73\n",
    "p6 = 0.87\n",
    "p7 = 2700.0\n",
    "p8 = 2300.0\n",
    "p9 = 540.0\n",
    "ps = 700000.0"
   ]
  },
  {
   "cell_type": "markdown",
   "metadata": {},
   "source": [
    "### Non-linear model"
   ]
  },
  {
   "cell_type": "code",
   "execution_count": 3,
   "metadata": {},
   "outputs": [],
   "source": [
    "model = ConcreteModel(name=\"Harvesting\")\n",
    "\n",
    "model.f = Var(initialize = 20.0, within=NonNegativeReals)\n",
    "model.d = Var(initialize = 20.0, within=NonNegativeReals)\n",
    "model.b = Var(initialize = 20.0, within=NonNegativeReals)\n",
    "model.hf = Var(initialize = 20.0, within=NonNegativeReals)\n",
    "model.hd = Var(initialize = 20.0, within=NonNegativeReals)\n",
    "model.hb = Var(initialize = 20.0, within=NonNegativeReals)\n",
    "model.br = Var(initialize=1.5, within=NonNegativeReals)\n",
    "model.c = Var(initialize=500000.0, within=NonNegativeReals)\n",
    "\n",
    "def obj_rule(m):\n",
    "    return 10*m.hb + m.hd + m.hf\n",
    "\n",
    "model.obj = Objective(rule=obj_rule, sense=maximize)\n",
    "\n",
    "def f_bal_rule(m):\n",
    "    return m.f == p1*m.br *(p2/10.0*m.f + p3*m.d) - m.hf\n",
    "\n",
    "model.f_bal = Constraint(rule=f_bal_rule)\n",
    "\n",
    "def d_bal_rule(m):\n",
    "    return m.d == p4*m.d + p5/2.0*m.f - m.hd\n",
    "\n",
    "model.d_bal = Constraint(rule=d_bal_rule)\n",
    "\n",
    "def b_bal_rule(m):\n",
    "    return m.b == p6*m.b + p5/2.0*m.f - m.hb\n",
    "\n",
    "model.b_bal = Constraint(rule=b_bal_rule)\n",
    "\n",
    "def food_cons_rule(m):\n",
    "    return m.c == p7*m.b + p8*m.d + p9*m.f\n",
    "\n",
    "model.food_cons = Constraint(rule=food_cons_rule)\n",
    "\n",
    "def supply_rule(m):\n",
    "    return m.c <= ps\n",
    "\n",
    "model.supply = Constraint(rule=supply_rule)\n",
    "\n",
    "def birth_rule(m):\n",
    "    return m.br == 1.1 + 0.8*(ps - m.c)/ps\n",
    "\n",
    "model.birth = Constraint(rule=birth_rule)\n",
    "\n",
    "def minbuck_rule(m):\n",
    "    return m.b >= 1.0/5.0*(0.4*m.f + m.d)\n",
    "\n",
    "model.minbuck = Constraint(rule=minbuck_rule)"
   ]
  },
  {
   "cell_type": "code",
   "execution_count": 4,
   "metadata": {},
   "outputs": [
    {
     "name": "stdout",
     "output_type": "stream",
     "text": [
      "\n",
      "Problem: \n",
      "- Lower bound: -inf\n",
      "  Upper bound: inf\n",
      "  Number of objectives: 1\n",
      "  Number of constraints: 7\n",
      "  Number of variables: 8\n",
      "  Sense: unknown\n",
      "Solver: \n",
      "- Status: ok\n",
      "  Message: Ipopt 3.11.1\\x3a Optimal Solution Found\n",
      "  Termination condition: optimal\n",
      "  Id: 0\n",
      "  Error rc: 0\n",
      "  Time: 0.040669918060302734\n",
      "Solution: \n",
      "- number of solutions: 0\n",
      "  number of solutions displayed: 0\n",
      "\n"
     ]
    }
   ],
   "source": [
    "solver = SolverFactory(\"ipopt\")\n",
    "results = solver.solve(model)\n",
    "print(results)"
   ]
  },
  {
   "cell_type": "code",
   "execution_count": 5,
   "metadata": {},
   "outputs": [
    {
     "name": "stdout",
     "output_type": "stream",
     "text": [
      "8 Var Declarations\n",
      "    b : Size=1, Index=None\n",
      "        Key  : Lower : Value             : Upper : Fixed : Stale : Domain\n",
      "        None :     0 : 54.36972761241992 :  None : False : False : NonNegativeReals\n",
      "    br : Size=1, Index=None\n",
      "        Key  : Lower : Value              : Upper : Fixed : Stale : Domain\n",
      "        None :     0 : 1.0999999920111345 :  None : False : False : NonNegativeReals\n",
      "    c : Size=1, Index=None\n",
      "        Key  : Lower : Value             : Upper : Fixed : Stale : Domain\n",
      "        None :     0 : 700000.0069902573 :  None : False : False : NonNegativeReals\n",
      "    d : Size=1, Index=None\n",
      "        Key  : Lower : Value              : Upper : Fixed : Stale : Domain\n",
      "        None :     0 : 196.00640104188517 :  None : False : False : NonNegativeReals\n",
      "    f : Size=1, Index=None\n",
      "        Key  : Lower : Value              : Upper : Fixed : Stale : Domain\n",
      "        None :     0 : 189.60559266738446 :  None : False : False : NonNegativeReals\n",
      "    hb : Size=1, Index=None\n",
      "        Key  : Lower : Value             : Upper : Fixed : Stale : Domain\n",
      "        None :     0 : 62.13797673398074 :  None : False : False : NonNegativeReals\n",
      "    hd : Size=1, Index=None\n",
      "        Key  : Lower : Value              : Upper : Fixed : Stale : Domain\n",
      "        None :     0 : 37.845017156893704 :  None : False : False : NonNegativeReals\n",
      "    hf : Size=1, Index=None\n",
      "        Key  : Lower : Value : Upper : Fixed : Stale : Domain\n",
      "        None :     0 :   0.0 :  None : False : False : NonNegativeReals\n",
      "\n",
      "1 Objective Declarations\n",
      "    obj : Size=1, Index=None, Active=True\n",
      "        Key  : Active : Sense    : Expression\n",
      "        None :   True : maximize : 10*hb + hd + hf\n",
      "\n",
      "7 Constraint Declarations\n",
      "    b_bal : Size=1, Index=None, Active=True\n",
      "        Key  : Lower : Body                      : Upper : Active\n",
      "        None :   0.0 : b - 0.87*b - 0.365*f + hb :   0.0 :   True\n",
      "    birth : Size=1, Index=None, Active=True\n",
      "        Key  : Lower : Body                                               : Upper : Active\n",
      "        None :   0.0 : -1.1 + br - 1.142857142857143e-06*( 700000.0 - c ) :   0.0 :   True\n",
      "    d_bal : Size=1, Index=None, Active=True\n",
      "        Key  : Lower : Body                      : Upper : Active\n",
      "        None :   0.0 : d - 0.84*d - 0.365*f + hd :   0.0 :   True\n",
      "    f_bal : Size=1, Index=None, Active=True\n",
      "        Key  : Lower : Body                                                    : Upper : Active\n",
      "        None :   0.0 : f - 0.88 * br * ( 0.08199999999999999*f + 0.92*d ) + hf :   0.0 :   True\n",
      "    food_cons : Size=1, Index=None, Active=True\n",
      "        Key  : Lower : Body                              : Upper : Active\n",
      "        None :   0.0 : c - 2700.0*b - 2300.0*d - 540.0*f :   0.0 :   True\n",
      "    minbuck : Size=1, Index=None, Active=True\n",
      "        Key  : Lower : Body                  : Upper : Active\n",
      "        None :  -Inf : 0.2*( 0.4*f + d ) - b :   0.0 :   True\n",
      "    supply : Size=1, Index=None, Active=True\n",
      "        Key  : Lower : Body : Upper    : Active\n",
      "        None :  -Inf :    c : 700000.0 :   True\n",
      "\n",
      "16 Declarations: f d b hf hd hb br c obj f_bal d_bal b_bal food_cons supply birth minbuck\n"
     ]
    }
   ],
   "source": [
    "model.pprint()"
   ]
  },
  {
   "cell_type": "markdown",
   "metadata": {},
   "source": [
    "### Linearized model"
   ]
  },
  {
   "cell_type": "code",
   "execution_count": 6,
   "metadata": {},
   "outputs": [],
   "source": [
    "br = 1.1"
   ]
  },
  {
   "cell_type": "code",
   "execution_count": 7,
   "metadata": {},
   "outputs": [],
   "source": [
    "model = ConcreteModel(name=\"Harvesting linearized\")\n",
    "\n",
    "model.f = Var(within=NonNegativeReals)\n",
    "model.d = Var(within=NonNegativeReals)\n",
    "model.b = Var(within=NonNegativeReals)\n",
    "model.hf = Var(within=NonNegativeReals)\n",
    "model.hd = Var(within=NonNegativeReals)\n",
    "model.hb = Var(within=NonNegativeReals)\n",
    "model.c = Var(within=NonNegativeReals)\n",
    "\n",
    "def obj_rule(m):\n",
    "    return 10*m.hb + m.hd + m.hf\n",
    "\n",
    "model.obj = Objective(rule=obj_rule, sense=maximize)\n",
    "\n",
    "def f_bal_rule(m):\n",
    "    return m.f == p1*br *(p2/10.0*m.f + p3*m.d) - m.hf\n",
    "\n",
    "model.f_bal = Constraint(rule=f_bal_rule)\n",
    "\n",
    "def d_bal_rule(m):\n",
    "    return m.d == p4*m.d + p5/2.0*m.f - m.hd\n",
    "\n",
    "model.d_bal = Constraint(rule=d_bal_rule)\n",
    "\n",
    "def b_bal_rule(m):\n",
    "    return m.b == p6*m.b + p5/2.0*m.f - m.hb\n",
    "\n",
    "model.b_bal = Constraint(rule=b_bal_rule)\n",
    "\n",
    "def food_cons_rule(m):\n",
    "    return m.c == p7*m.b + p8*m.d + p9*m.f\n",
    "\n",
    "model.food_cons = Constraint(rule=food_cons_rule)\n",
    "\n",
    "def supply_rule(m):\n",
    "    return m.c == ps\n",
    "\n",
    "model.supply = Constraint(rule=supply_rule)\n",
    "\n",
    "def minbuck_rule(m):\n",
    "    return m.b >= 1.0/5.0*(0.4*m.f + m.d)\n",
    "\n",
    "model.minbuck = Constraint(rule=minbuck_rule)"
   ]
  },
  {
   "cell_type": "code",
   "execution_count": 8,
   "metadata": {},
   "outputs": [
    {
     "name": "stdout",
     "output_type": "stream",
     "text": [
      "\n",
      "Problem: \n",
      "- Name: unknown\n",
      "  Lower bound: 659.224782631462\n",
      "  Upper bound: 659.224782631462\n",
      "  Number of objectives: 1\n",
      "  Number of constraints: 7\n",
      "  Number of variables: 8\n",
      "  Number of nonzeros: 18\n",
      "  Sense: maximize\n",
      "Solver: \n",
      "- Status: ok\n",
      "  Termination condition: optimal\n",
      "  Statistics: \n",
      "    Branch and bound: \n",
      "      Number of bounded subproblems: 0\n",
      "      Number of created subproblems: 0\n",
      "  Error rc: 0\n",
      "  Time: 0.06794476509094238\n",
      "Solution: \n",
      "- number of solutions: 0\n",
      "  number of solutions displayed: 0\n",
      "\n"
     ]
    }
   ],
   "source": [
    "solver = SolverFactory(\"glpk\")\n",
    "results = solver.solve(model)\n",
    "print(results)"
   ]
  },
  {
   "cell_type": "code",
   "execution_count": 9,
   "metadata": {},
   "outputs": [
    {
     "name": "stdout",
     "output_type": "stream",
     "text": [
      "7 Var Declarations\n",
      "    b : Size=1, Index=None\n",
      "        Key  : Lower : Value            : Upper : Fixed : Stale : Domain\n",
      "        None :     0 : 54.3697271084899 :  None : False : False : NonNegativeReals\n",
      "    c : Size=1, Index=None\n",
      "        Key  : Lower : Value    : Upper : Fixed : Stale : Domain\n",
      "        None :     0 : 700000.0 :  None : False : False : NonNegativeReals\n",
      "    d : Size=1, Index=None\n",
      "        Key  : Lower : Value            : Upper : Fixed : Stale : Domain\n",
      "        None :     0 : 196.006398762916 :  None : False : False : NonNegativeReals\n",
      "    f : Size=1, Index=None\n",
      "        Key  : Lower : Value            : Upper : Fixed : Stale : Domain\n",
      "        None :     0 : 189.605591948833 :  None : False : False : NonNegativeReals\n",
      "    hb : Size=1, Index=None\n",
      "        Key  : Lower : Value            : Upper : Fixed : Stale : Domain\n",
      "        None :     0 : 62.1379765372205 :  None : False : False : NonNegativeReals\n",
      "    hd : Size=1, Index=None\n",
      "        Key  : Lower : Value            : Upper : Fixed : Stale : Domain\n",
      "        None :     0 : 37.8450172592576 :  None : False : False : NonNegativeReals\n",
      "    hf : Size=1, Index=None\n",
      "        Key  : Lower : Value : Upper : Fixed : Stale : Domain\n",
      "        None :     0 :   0.0 :  None : False : False : NonNegativeReals\n",
      "\n",
      "1 Objective Declarations\n",
      "    obj : Size=1, Index=None, Active=True\n",
      "        Key  : Active : Sense    : Expression\n",
      "        None :   True : maximize : 10*hb + hd + hf\n",
      "\n",
      "6 Constraint Declarations\n",
      "    b_bal : Size=1, Index=None, Active=True\n",
      "        Key  : Lower : Body                      : Upper : Active\n",
      "        None :   0.0 : b - 0.87*b - 0.365*f + hb :   0.0 :   True\n",
      "    d_bal : Size=1, Index=None, Active=True\n",
      "        Key  : Lower : Body                      : Upper : Active\n",
      "        None :   0.0 : d - 0.84*d - 0.365*f + hd :   0.0 :   True\n",
      "    f_bal : Size=1, Index=None, Active=True\n",
      "        Key  : Lower : Body                                                           : Upper : Active\n",
      "        None :   0.0 : f - 0.9680000000000001*( 0.08199999999999999*f + 0.92*d ) + hf :   0.0 :   True\n",
      "    food_cons : Size=1, Index=None, Active=True\n",
      "        Key  : Lower : Body                              : Upper : Active\n",
      "        None :   0.0 : c - 2700.0*b - 2300.0*d - 540.0*f :   0.0 :   True\n",
      "    minbuck : Size=1, Index=None, Active=True\n",
      "        Key  : Lower : Body                  : Upper : Active\n",
      "        None :  -Inf : 0.2*( 0.4*f + d ) - b :   0.0 :   True\n",
      "    supply : Size=1, Index=None, Active=True\n",
      "        Key  : Lower    : Body : Upper    : Active\n",
      "        None : 700000.0 :    c : 700000.0 :   True\n",
      "\n",
      "14 Declarations: f d b hf hd hb c obj f_bal d_bal b_bal food_cons supply minbuck\n"
     ]
    }
   ],
   "source": [
    "model.pprint()"
   ]
  }
 ],
 "metadata": {
  "kernelspec": {
   "display_name": "Python 3",
   "language": "python",
   "name": "python3"
  },
  "language_info": {
   "codemirror_mode": {
    "name": "ipython",
    "version": 3
   },
   "file_extension": ".py",
   "mimetype": "text/x-python",
   "name": "python",
   "nbconvert_exporter": "python",
   "pygments_lexer": "ipython3",
   "version": "3.7.0"
  }
 },
 "nbformat": 4,
 "nbformat_minor": 2
}
